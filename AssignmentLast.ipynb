Question 1:
Define Object Oriented Programming Language?
Answer :
An object oriented programming language is a high level programming language based on the object oriented model. Object oriented programming refers to a type of computer programming in which programmers define the data type of a data structure, and also the types of operations that can be applied to the data structure. Many modern programming languages are object oriented, however some older programming languages, such as Pascal, do offer object oriented versions. Examples of object oriented programming languages include Java, C++ and Smalltalk.
Question 2:
List down the Benefits of OOP?
Answer :
Some benefits of OOP:
. It provides a clear modular structure for programs which makes it good for defining abstract datatypes in which implementation details are hidden
. Objects can also be reused within an across applications. The reuse of software also lowers the cost of development. More effort is put into the object oriented analysis and design, which lowers the overall cost of development.
. It makes software easier to maintain. Since the design is modular, part of the system can be updated in case of issues without a need to make large-scale changes
. Reuse also enables faster development. Object oriented programming languages come with rich libraries of objects, and code developed during projects is also reusable in future projects.
Qusetion 3:
Difference between function and method ?
Answer :
A function is a piece of code that is called by name. It can be passed data to operate on i.e. the parameters and can optionally return data (the return value). All data that is passed to a function is explicitly passed.
A method is a piece of code that is called by a name that is associated with an object. In most respects it is identical to a function except for two key differences:
1. A method is implicitly passed the object on which it was called.
2. A method is able to operate on data that is contained within the class.
Question 4:
Define the following terms :
Answer :
1. Class.
In object oriented programming a class is a blueprint for creating objects (a particular data structure), providing initial values for state and implementations of behavior. A class is an entity that determines how an object will behave and what the object will contain. In other words, it is a blueprint or a set of instruction to build a specific type of object.
2. Object.
An object is nothing but a self contained component which consists of methods and properties to make a particular type of data useful. Object determines the behavior of the class. When you send a message to an object you are asking the object to invoke or execute one of its methods.From a programming point of view an object can be a data structure a variable or a function.
3. Attribute.
In Object oriented programming classes and objects have attributes. Attributes are data stored inside a class or instance and represent the state or quality of the class or instance. In short attributes store information about the instance. Also attributes should not be confused with class functions also known as methods.
4.Behavior.
A class behavior determines how an instance of that class operates for example, how it will react if asked to do something by another class or object or if its internal state changes. Behavior is the only way objects can do anything to themselves or have anything done to them.¶


{
 "cells": [
  {
   "cell_type": "code",
   "execution_count": null,
   "metadata": {},
   "outputs": [],
   "source": []
  },
  {
   "cell_type": "code",
   "execution_count": 17,
   "metadata": {},
   "outputs": [
    {
     "name": "stdout",
     "output_type": "stream",
     "text": [
      "Hilux\n",
      "Vigo\n",
      "Black  <- Default Color\n",
      "ZGG-278\n",
      "Excellent condition\n",
      "White  <- Update Color\n",
      "\n",
      "\n",
      "LandCruizer\n",
      "Land 2.8  <- Old Model\n",
      "Red\n",
      "DAE-421\n",
      "Good condition\n",
      "3.5  <-  Model\n",
      "\n",
      "\n",
      "Nissan\n",
      "carrry\n",
      "Blue\n",
      "ZOK-2048\n",
      "Poor condition\n",
      "\n",
      "\n",
      "Honda\n",
      "City\n",
      "Blue\n",
      "KNO-2297\n",
      "Excellent condition\n",
      "\n",
      "\n",
      "Suzuki\n",
      "Mehran\n",
      "Green\n",
      "M-007\n",
      "Superb condition\n"
     ]
    }
   ],
   "source": [
    "class Car():\n",
    "    \n",
    "    def __init__(self,carName,carModel,carColor,carNum,carCondition):\n",
    "        \n",
    "        self.carName = carName\n",
    "        self.carModel = carModel\n",
    "        self.carColor = carColor\n",
    "        self.carNum = carNum\n",
    "        self.carCondition = carCondition\n",
    "    \n",
    "    def updateModel(self,newModel):\n",
    "        self.carModel = newModel\n",
    "        \n",
    "    def updateCar(self,newCar):\n",
    "        self.carName = newCar\n",
    "    \n",
    "    def updateColor(self,newColor):\n",
    "        self.carColor = newColor\n",
    "car1 = Car('Hilux', 'Vigo', 'Black', 'ZGG-278', 'Excellent condition' )\n",
    "print(car1.carName)\n",
    "print(car1.carModel)\n",
    "print(car1.carColor , \" <- Default Color\")\n",
    "print(car1.carNum)\n",
    "print(car1.carCondition)\n",
    "car1.updateColor('White')\n",
    "print(car1.carColor , \" <- Update Color\")\n",
    "\n",
    "print('\\n')\n",
    "car2 = Car('LandCruizer', 'Land 2.8', 'Red', 'DAE-421', 'Good condition' )\n",
    "print(car2.carName)\n",
    "print(car2.carModel , \" <- Old Model\")\n",
    "print(car2.carColor)\n",
    "print(car2.carNum)\n",
    "print(car2.carCondition)\n",
    "car2.updateModel('3.5')\n",
    "print(car2.carModel , \" <-  Model\")\n",
    "\n",
    "print('\\n')\n",
    "car3 = Car('Nissan', 'carrry', 'Blue', 'ZOK-2048', 'Poor condition' )\n",
    "print(car3.carName)\n",
    "print(car3.carModel)\n",
    "print(car3.carColor)\n",
    "print(car3.carNum)\n",
    "print(car3.carCondition)\n",
    "\n",
    "print('\\n')\n",
    "car4 = Car('Honda', 'City', 'Blue', 'KNO-2297', 'Excellent condition' )\n",
    "print(car4.carName)\n",
    "print(car4.carModel)\n",
    "print(car4.carColor )\n",
    "print(car4.carNum)\n",
    "print(car4.carCondition)\n",
    "\n",
    "print('\\n')\n",
    "car5 = Car('Suzuki', 'Mehran', 'Green', 'M-007', 'Superb condition' )\n",
    "print(car5.carName)\n",
    "print(car5.carModel)\n",
    "print(car5.carColor)\n",
    "print(car5.carNum)\n",
    "print(car5.carCondition)"
   ]
  },
  {
   "cell_type": "code",
   "execution_count": null,
   "metadata": {},
   "outputs": [],
   "source": []
  },
  {
   "cell_type": "code",
   "execution_count": null,
   "metadata": {},
   "outputs": [],
   "source": []
  },
  {
   "cell_type": "code",
   "execution_count": null,
   "metadata": {},
   "outputs": [],
   "source": []
  },
  {
   "cell_type": "code",
   "execution_count": null,
   "metadata": {},
   "outputs": [],
   "source": []
  }
 ],
 "metadata": {
  "kernelspec": {
   "display_name": "Python 3",
   "language": "python",
   "name": "python3"
  },
  "language_info": {
   "codemirror_mode": {
    "name": "ipython",
    "version": 3
   },
   "file_extension": ".py",
   "mimetype": "text/x-python",
   "name": "python",
   "nbconvert_exporter": "python",
   "pygments_lexer": "ipython3",
   "version": "3.7.3"
  }
 },
 "nbformat": 4,
 "nbformat_minor": 2
}
